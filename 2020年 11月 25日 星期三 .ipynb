{
 "cells": [
  {
   "cell_type": "code",
   "execution_count": 9,
   "metadata": {},
   "outputs": [],
   "source": [
    "from sympy import E,factorial\n",
    "import numpy as np\n",
    "import matplotlib.pyplot as plt"
   ]
  },
  {
   "cell_type": "code",
   "execution_count": 5,
   "metadata": {},
   "outputs": [
    {
     "data": {
      "text/latex": [
       "$\\displaystyle 2.71828182845905$"
      ],
      "text/plain": [
       "2.71828182845905"
      ]
     },
     "execution_count": 5,
     "metadata": {},
     "output_type": "execute_result"
    }
   ],
   "source": [
    "E.evalf()"
   ]
  },
  {
   "cell_type": "code",
   "execution_count": 8,
   "metadata": {},
   "outputs": [
    {
     "data": {
      "text/plain": [
       "0.1353352832366127"
      ]
     },
     "execution_count": 8,
     "metadata": {},
     "output_type": "execute_result"
    }
   ],
   "source": [
    "np.e**-2"
   ]
  },
  {
   "cell_type": "code",
   "execution_count": 11,
   "metadata": {},
   "outputs": [
    {
     "data": {
      "text/latex": [
       "$\\displaystyle 0.146525111109873$"
      ],
      "text/plain": [
       "0.146525111109873"
      ]
     },
     "execution_count": 11,
     "metadata": {},
     "output_type": "execute_result"
    }
   ],
   "source": [
    "px = 4**2 * np.e**-4 / factorial(2)\n",
    "px"
   ]
  },
  {
   "cell_type": "code",
   "execution_count": 20,
   "metadata": {},
   "outputs": [
    {
     "data": {
      "text/plain": [
       "[0.606530659712633,\n",
       " 0.303265329856317,\n",
       " 0.0758163324640792,\n",
       " 0.0126360554106799,\n",
       " 0.00157950692633498,\n",
       " 0.000157950692633498,\n",
       " 1.31625577194582e-5,\n",
       " 9.40182694247014e-7,\n",
       " 5.87614183904383e-8,\n",
       " 3.26452324391324e-9]"
      ]
     },
     "execution_count": 20,
     "metadata": {},
     "output_type": "execute_result"
    }
   ],
   "source": [
    "y1 = []\n",
    "for i in range(10):\n",
    "    px = 0.5**i * np.e**-0.5 / factorial(i)\n",
    "    y1.append(px)\n",
    "y1"
   ]
  },
  {
   "cell_type": "code",
   "execution_count": 19,
   "metadata": {},
   "outputs": [
    {
     "data": {
      "text/plain": [
       "[0.135335283236613,\n",
       " 0.270670566473225,\n",
       " 0.270670566473225,\n",
       " 0.180447044315484,\n",
       " 0.0902235221577418,\n",
       " 0.0360894088630967,\n",
       " 0.0120298029543656,\n",
       " 0.00343708655839016,\n",
       " 0.000859271639597541,\n",
       " 0.000190949253243898]"
      ]
     },
     "execution_count": 19,
     "metadata": {},
     "output_type": "execute_result"
    }
   ],
   "source": [
    "y2 = []\n",
    "for i in range(10):\n",
    "    px = 2**i * np.e**-2 / factorial(i)\n",
    "    y2.append(px)\n",
    "y2"
   ]
  },
  {
   "cell_type": "code",
   "execution_count": 18,
   "metadata": {},
   "outputs": [
    {
     "data": {
      "text/plain": [
       "[0.0183156388887342,\n",
       " 0.0732625555549367,\n",
       " 0.146525111109873,\n",
       " 0.195366814813165,\n",
       " 0.195366814813165,\n",
       " 0.156293451850532,\n",
       " 0.104195634567021,\n",
       " 0.0595403626097264,\n",
       " 0.0297701813048632,\n",
       " 0.0132311916910503]"
      ]
     },
     "execution_count": 18,
     "metadata": {},
     "output_type": "execute_result"
    }
   ],
   "source": [
    "y3 = []\n",
    "for i in range(10):\n",
    "    px = 4**i * np.e**-4 / factorial(i)\n",
    "    y3.append(px)\n",
    "y3"
   ]
  },
  {
   "cell_type": "code",
   "execution_count": 88,
   "metadata": {},
   "outputs": [
    {
     "data": {
      "text/plain": [
       "<BarContainer object of 10 artists>"
      ]
     },
     "execution_count": 88,
     "metadata": {},
     "output_type": "execute_result"
    },
    {
     "data": {
      "image/png": "[encoded data removed]",
      "text/plain": [
       "<Figure size 720x144 with 3 Axes>"
      ]
     },
     "metadata": {
      "needs_background": "light"
     },
     "output_type": "display_data"
    }
   ],
   "source": [
    "x = np.arange(0,len(y1),1)\n",
    "xlabel=['0','1','2','3','4','5','6','7','8','9']\n",
    "# xlabel=[0,1,2,3,4,5,6,7,8,9,10]\n",
    "fig, ax = plt.subplots(1,3,figsize=(10,2))\n",
    "ax[0].bar(x,y1,width=1,edgecolor='black',color='b',tick_label=xlabel)\n",
    "ax[1].bar(x,y2,width=0.8,edgecolor='black',color='y',align='edge',tick_label=xlabel)\n",
    "ax[2].bar(x,y3,width=1,edgecolor='white',color='r',align='center',tick_label=xlabel)"
   ]
  },
  {
   "cell_type": "code",
   "execution_count": 85,
   "metadata": {},
   "outputs": [
    {
     "data": {
      "text/plain": [
       "<BarContainer object of 10 artists>"
      ]
     },
     "execution_count": 85,
     "metadata": {},
     "output_type": "execute_result"
    },
    {
     "data": {
      "image/png": "[encoded data removed]",
      "text/plain": [
       "<Figure size 720x144 with 3 Axes>"
      ]
     },
     "metadata": {
      "needs_background": "light"
     },
     "output_type": "display_data"
    }
   ],
   "source": [
    "x = np.arange(0,len(y1),1)\n",
    "xlabel=['0','1','2','3','4','5','6','7','8','9']\n",
    "# xlabel=[0,1,2,3,4,5,6,7,8,9,10]\n",
    "fig, ax = plt.subplots(1,3,figsize=(10,2))\n",
    "ax[0].barh(x,y1,height=1,edgecolor='black',color='b')\n",
    "ax[1].barh(x,y2,height=0.8,edgecolor='black',color='y',align='edge',)\n",
    "ax[2].barh(x,y3,height=1,edgecolor='white',color='r',align='center',tick_label=xlabel)"
   ]
  },
  {
   "cell_type": "code",
   "execution_count": 100,
   "metadata": {},
   "outputs": [
    {
     "data": {
      "text/plain": [
       "Text(0.5, 1.0, 'Диаграмма со смайликами')"
      ]
     },
     "execution_count": 100,
     "metadata": {},
     "output_type": "execute_result"
    },
    {
     "data": {
      "image/png": "[encoded data removed]",
      "text/plain": [
       "<Figure size 432x288 with 1 Axes>"
      ]
     },
     "metadata": {
      "needs_background": "light"
     },
     "output_type": "display_data"
    }
   ],
   "source": [
    "from __future__ import unicode_literals\n",
    "\n",
    "import matplotlib.pyplot as plt\n",
    "\n",
    "fig, ax = plt.subplots()\n",
    "tick_labels = ['😃', '😎', '😴', '😲', '😲']\n",
    "bar_labels = ['א', 'α', '☣', '⌬', 'ℝ']\n",
    "y = [1, 4, 9, 16, 25]\n",
    "x = range(5)\n",
    "ax.bar(x, y, tick_label=tick_labels, align='center')\n",
    "ax.xaxis.set_tick_params(labelsize=20)\n",
    "for _x, _y, t in zip(x, y, bar_labels):\n",
    "    ax.annotate(t, (_x, _y), fontsize=20, ha='center',\n",
    "                xytext=(0, -2), textcoords='offset pixels',\n",
    "                bbox={'facecolor': 'w'})\n",
    "\n",
    "ax.set_title('Диаграмма со смайликами')"
   ]
  },
  {
   "cell_type": "code",
   "execution_count": null,
   "metadata": {},
   "outputs": [],
   "source": []
  },
  {
   "cell_type": "code",
   "execution_count": null,
   "metadata": {},
   "outputs": [],
   "source": []
  }
 ],
 "metadata": {
  "kernelspec": {
   "display_name": "Python 3",
   "language": "python",
   "name": "python3"
  },
  "language_info": {
   "codemirror_mode": {
    "name": "ipython",
    "version": 3
   },
   "file_extension": ".py",
   "mimetype": "text/x-python",
   "name": "python",
   "nbconvert_exporter": "python",
   "pygments_lexer": "ipython3",
   "version": "3.8.5"
  }
 },
 "nbformat": 4,
 "nbformat_minor": 4
}
