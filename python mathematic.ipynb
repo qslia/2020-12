{
 "cells": [
  {
   "cell_type": "markdown",
   "metadata": {},
   "source": [
    "$f(x)=\\sqrt{x+3}-x+1$"
   ]
  },
  {
   "cell_type": "code",
   "execution_count": 1,
   "metadata": {},
   "outputs": [
    {
     "name": "stdout",
     "output_type": "stream",
     "text": [
      "f(0.000) = 2.732\n",
      "f(1.000) = 2.000\n",
      "f(1.414) = 1.687\n",
      "f(0.414) = 2.434\n"
     ]
    }
   ],
   "source": [
    "import math as m\n",
    "def f(x):\n",
    "    return m.sqrt(x+3)-x+1\n",
    "#list of values to plug in\n",
    "for x in [0,1,m.sqrt(2),m.sqrt(2)-1]:\n",
    "    print(\"f({:.3f}) = {:.3f}\".format(x,f(x)))"
   ]
  },
  {
   "cell_type": "code",
   "execution_count": 27,
   "metadata": {
    "scrolled": true
   },
   "outputs": [],
   "source": [
    "from turtle import *\n",
    "shape('turtle')\n",
    "def square(sidelength=100):\n",
    "    for i in range(4):\n",
    "        forward(sidelength)\n",
    "        right(90)\n",
    "square(30)\n",
    "square(50)\n",
    "square()"
   ]
  },
  {
   "cell_type": "code",
   "execution_count": 72,
   "metadata": {},
   "outputs": [],
   "source": [
    "def triangle(sidelength=100):\n",
    "    for i in range(5):\n",
    "        forward(sidelength)\n",
    "        left(144)\n",
    "triangle(100)"
   ]
  },
  {
   "cell_type": "code",
   "execution_count": 96,
   "metadata": {},
   "outputs": [
    {
     "name": "stdout",
     "output_type": "stream",
     "text": [
      "15\n"
     ]
    }
   ],
   "source": [
    "def sum_runing(num=100):\n",
    "    sum_runing = 0\n",
    "    for i in range(num+1):\n",
    "#         sum += i\n",
    "#         sum += i**2 + 1\n",
    "#         if i%2 != 0:\n",
    "            sum_runing += i\n",
    "    print(sum_runing)\n",
    "sum_runing(5)"
   ]
  },
  {
   "cell_type": "code",
   "execution_count": 1,
   "metadata": {},
   "outputs": [
    {
     "data": {
      "text/plain": [
       "13.0"
      ]
     },
     "execution_count": 1,
     "metadata": {},
     "output_type": "execute_result"
    }
   ],
   "source": [
    "def average3(numList):\n",
    "    return sum(numList)/len(numList)\n",
    "average3([1,25])"
   ]
  },
  {
   "cell_type": "code",
   "execution_count": 3,
   "metadata": {},
   "outputs": [
    {
     "data": {
      "text/plain": [
       "[1, 2, 5, 10]"
      ]
     },
     "execution_count": 3,
     "metadata": {},
     "output_type": "execute_result"
    }
   ],
   "source": [
    "def factor(num):\n",
    "    '''return a list of the factors of num'''\n",
    "    factorList = []\n",
    "    for i in range(1,num+1):\n",
    "        if num % i == 0:\n",
    "            factorList.append(i)\n",
    "    return factorList\n",
    "factor(10)"
   ]
  },
  {
   "cell_type": "code",
   "execution_count": 10,
   "metadata": {},
   "outputs": [
    {
     "data": {
      "text/plain": [
       "6"
      ]
     },
     "execution_count": 10,
     "metadata": {},
     "output_type": "execute_result"
    }
   ],
   "source": [
    "def factor(num1,num2):\n",
    "    factorList = []\n",
    "    if num1 > num2:\n",
    "        num = num1\n",
    "    else:\n",
    "        num = num2\n",
    "    for i in range(1,num):\n",
    "        if (num1 % i == 0) and num2 %i == 0:\n",
    "            factorList.append(i)\n",
    "    return factorList[-1]\n",
    "factor(150,138)"
   ]
  },
  {
   "cell_type": "code",
   "execution_count": 1,
   "metadata": {},
   "outputs": [
    {
     "name": "stdout",
     "output_type": "stream",
     "text": [
      "I'm thinking of a number between 1 and 100.\n",
      "What's your guess?1\n",
      "Nope,Higher.\n",
      "What's your guess?0\n"
     ]
    }
   ],
   "source": [
    "from random import randint\n",
    "def numberGame():\n",
    "    number = randint(1,5)\n",
    "    print(\"I'm thinking of a number between 1 and 100.\")\n",
    "    guess = int(input(\"What's your guess?\"))\n",
    "    while guess:\n",
    "        if number == guess:\n",
    "            print(\"That's correct! The number was\", number)\n",
    "            break\n",
    "        elif number > guess:\n",
    "            print(\"Nope,Higher.\")\n",
    "        else:\n",
    "            print(\"Nope,Lower.\")\n",
    "        guess = int(input(\"What's your guess?\"))\n",
    "numberGame()"
   ]
  },
  {
   "cell_type": "code",
   "execution_count": 5,
   "metadata": {},
   "outputs": [],
   "source": [
    "from turtle import *\n",
    "#set the range of x-values\n",
    "xmin = -10\n",
    "xmax = 10\n",
    "#range of y-values\n",
    "ymin = -10\n",
    "ymax = 10\n",
    "#calculate the range\n",
    "rangex = xmax - xmin\n",
    "rangey = ymax - ymin\n",
    "def setup():\n",
    "    global xscl, yscl\n",
    "    size(600,600)\n",
    "    xscl = width / rangex\n",
    "    yscl = height / rangey\n",
    "def draw():\n",
    "    global xscl, yscl\n",
    "    background(255) #white\n",
    "    translate(width/2,height/2)\n",
    "    #cyan lines\n",
    "    strokeWeight(1)\n",
    "    stroke(0,255,255)\n",
    "    for i in range(xmin,xmax + 1):\n",
    "        line(i*xscl,ymin*yscl,i*xscl,ymax*yscl)\n",
    "        line(xmin*xscl,i*yscl,xmax*xscl,i*yscl)"
   ]
  },
  {
   "cell_type": "code",
   "execution_count": 6,
   "metadata": {},
   "outputs": [],
   "source": [
    "def cMult(u,v):\n",
    "    '''Returns the product of two complex numbers'''\n",
    "    return [u[0]*v[0]-u[1]*v[1],u[1]*v[0]+u[0]*v[1]]"
   ]
  },
  {
   "cell_type": "code",
   "execution_count": 8,
   "metadata": {},
   "outputs": [
    {
     "data": {
      "text/plain": [
       "[-5, 10]"
      ]
     },
     "execution_count": 8,
     "metadata": {},
     "output_type": "execute_result"
    }
   ],
   "source": [
    "u = [1,2]\n",
    "v = [3,4]\n",
    "cMult(u,v)"
   ]
  },
  {
   "cell_type": "code",
   "execution_count": 15,
   "metadata": {},
   "outputs": [
    {
     "data": {
      "text/plain": [
       "<bound method Fraction.from_decimal of <class 'fractions.Fraction'>>"
      ]
     },
     "execution_count": 15,
     "metadata": {},
     "output_type": "execute_result"
    }
   ],
   "source": [
    "from fractions import Fraction\n",
    "f = Fraction(3,4)"
   ]
  },
  {
   "cell_type": "code",
   "execution_count": 16,
   "metadata": {},
   "outputs": [],
   "source": [
    "a = complex(2,3)"
   ]
  },
  {
   "cell_type": "code",
   "execution_count": 17,
   "metadata": {},
   "outputs": [
    {
     "data": {
      "text/plain": [
       "(5+6j)"
      ]
     },
     "execution_count": 17,
     "metadata": {},
     "output_type": "execute_result"
    }
   ],
   "source": [
    "b = 3 + 3j\n",
    "a+b"
   ]
  },
  {
   "cell_type": "code",
   "execution_count": 18,
   "metadata": {},
   "outputs": [
    {
     "data": {
      "text/plain": [
       "3.0"
      ]
     },
     "execution_count": 18,
     "metadata": {},
     "output_type": "execute_result"
    }
   ],
   "source": [
    "b.real"
   ]
  },
  {
   "cell_type": "code",
   "execution_count": 21,
   "metadata": {},
   "outputs": [
    {
     "data": {
      "text/plain": [
       "3.0"
      ]
     },
     "execution_count": 21,
     "metadata": {},
     "output_type": "execute_result"
    }
   ],
   "source": [
    "b.imag"
   ]
  },
  {
   "cell_type": "code",
   "execution_count": 23,
   "metadata": {},
   "outputs": [
    {
     "data": {
      "text/plain": [
       "(3-3j)"
      ]
     },
     "execution_count": 23,
     "metadata": {},
     "output_type": "execute_result"
    }
   ],
   "source": [
    "b.conjugate()"
   ]
  },
  {
   "cell_type": "code",
   "execution_count": 24,
   "metadata": {},
   "outputs": [
    {
     "name": "stdout",
     "output_type": "stream",
     "text": [
      "Enter a fraction: 5/6\n"
     ]
    }
   ],
   "source": [
    "a = Fraction(input('Enter a fraction: '))"
   ]
  },
  {
   "cell_type": "code",
   "execution_count": 25,
   "metadata": {},
   "outputs": [
    {
     "data": {
      "text/plain": [
       "Fraction(5, 6)"
      ]
     },
     "execution_count": 25,
     "metadata": {},
     "output_type": "execute_result"
    }
   ],
   "source": [
    "a"
   ]
  },
  {
   "cell_type": "code",
   "execution_count": 26,
   "metadata": {},
   "outputs": [
    {
     "name": "stdout",
     "output_type": "stream",
     "text": [
      "1\n",
      "3\n"
     ]
    }
   ],
   "source": [
    "for i in range(1,5,2):\n",
    "    print(i)"
   ]
  },
  {
   "cell_type": "code",
   "execution_count": 35,
   "metadata": {},
   "outputs": [
    {
     "data": {
      "image/png": "[encoded data removed]",
      "text/plain": [
       "<Figure size 432x288 with 1 Axes>"
      ]
     },
     "metadata": {
      "needs_background": "light"
     },
     "output_type": "display_data"
    }
   ],
   "source": [
    "x_numbers = [1,2,3]\n",
    "y_numbers = [2,4,6]\n",
    "from pylab import plot, show\n",
    "plot(x_numbers,y_numbers,'o')\n",
    "show()"
   ]
  },
  {
   "cell_type": "code",
   "execution_count": 34,
   "metadata": {},
   "outputs": [
    {
     "data": {
      "image/png": "[encoded data removed]",
      "text/plain": [
       "<Figure size 432x288 with 1 Axes>"
      ]
     },
     "metadata": {
      "needs_background": "light"
     },
     "output_type": "display_data"
    }
   ],
   "source": [
    "nyc_temp = [53.9, 56.3, 56.4, 53.4, 54.5, 55.8, 56.8, 55.0, 55.3, 54.0, 56.7, 56.4, 57.3]\n",
    "years = range(2000, 2013)\n",
    "plot(years,nyc_temp, marker='o')\n",
    "show()"
   ]
  },
  {
   "cell_type": "code",
   "execution_count": 41,
   "metadata": {},
   "outputs": [
    {
     "data": {
      "image/png": "[encoded data removed]",
      "text/plain": [
       "<Figure size 432x288 with 1 Axes>"
      ]
     },
     "metadata": {
      "needs_background": "light"
     },
     "output_type": "display_data"
    }
   ],
   "source": [
    "nyc_temp_2000 = [31.3, 37.3, 47.2, 51.0, 63.5, 71.3, 72.3, 72.7, 66.0, 57.0, 45.3, 31.1]\n",
    "nyc_temp_2006 = [40.9, 35.7, 43.1, 55.7, 63.1, 71.0, 77.9, 75.8, 66.6, 56.2, 51.9, 43.6]\n",
    "nyc_temp_2012 = [37.3, 40.9, 50.9, 54.8, 65.1, 71.0, 78.8, 76.7, 68.8, 58.0, 43.9, 41.5]\n",
    "months = range(1, 13)\n",
    "plot(months, nyc_temp_2000, months, nyc_temp_2006, months, nyc_temp_2012)\n",
    "from pylab import legend\n",
    "legend([2000, 2006, 2012])\n",
    "show()"
   ]
  },
  {
   "cell_type": "code",
   "execution_count": 2,
   "metadata": {},
   "outputs": [
    {
     "data": {
      "text/latex": [
       "$\\displaystyle 2 x + 1$"
      ],
      "text/plain": [
       "2*x + 1"
      ]
     },
     "execution_count": 2,
     "metadata": {},
     "output_type": "execute_result"
    }
   ],
   "source": [
    "from sympy import Symbol\n",
    "a = Symbol('x')\n",
    "a+a+1"
   ]
  },
  {
   "cell_type": "code",
   "execution_count": 3,
   "metadata": {},
   "outputs": [
    {
     "data": {
      "text/plain": [
       "'x'"
      ]
     },
     "execution_count": 3,
     "metadata": {},
     "output_type": "execute_result"
    }
   ],
   "source": [
    "a.name"
   ]
  },
  {
   "cell_type": "code",
   "execution_count": 7,
   "metadata": {},
   "outputs": [],
   "source": [
    "from sympy import symbols\n",
    "x,y,z = symbols('x,y,z')"
   ]
  },
  {
   "cell_type": "code",
   "execution_count": 8,
   "metadata": {},
   "outputs": [
    {
     "data": {
      "text/latex": [
       "$\\displaystyle 2 x y$"
      ],
      "text/plain": [
       "2*x*y"
      ]
     },
     "execution_count": 8,
     "metadata": {},
     "output_type": "execute_result"
    }
   ],
   "source": [
    "s = x*y+x*y\n",
    "s"
   ]
  },
  {
   "cell_type": "code",
   "execution_count": 9,
   "metadata": {},
   "outputs": [
    {
     "data": {
      "text/latex": [
       "$\\displaystyle 2 x^{2}$"
      ],
      "text/plain": [
       "2*x**2"
      ]
     },
     "execution_count": 9,
     "metadata": {},
     "output_type": "execute_result"
    }
   ],
   "source": [
    "p=x*(x+x)\n",
    "p"
   ]
  },
  {
   "cell_type": "code",
   "execution_count": 11,
   "metadata": {},
   "outputs": [],
   "source": [
    "p = (x+2)*(x+3)"
   ]
  },
  {
   "cell_type": "code",
   "execution_count": 14,
   "metadata": {},
   "outputs": [
    {
     "data": {
      "text/latex": [
       "$\\displaystyle \\left(x - y\\right) \\left(x + y\\right)$"
      ],
      "text/plain": [
       "(x - y)*(x + y)"
      ]
     },
     "execution_count": 14,
     "metadata": {},
     "output_type": "execute_result"
    }
   ],
   "source": [
    "from sympy import factor,expand\n",
    "expr = x**2 - y**2\n",
    "factor(expr)"
   ]
  },
  {
   "cell_type": "code",
   "execution_count": 15,
   "metadata": {},
   "outputs": [
    {
     "data": {
      "text/latex": [
       "$\\displaystyle x^{2} - y^{2}$"
      ],
      "text/plain": [
       "x**2 - y**2"
      ]
     },
     "execution_count": 15,
     "metadata": {},
     "output_type": "execute_result"
    }
   ],
   "source": [
    "factor = factor(expr)\n",
    "expand(factor)"
   ]
  },
  {
   "cell_type": "code",
   "execution_count": 22,
   "metadata": {},
   "outputs": [
    {
     "data": {
      "text/latex": [
       "$\\displaystyle \\left(x + y\\right)^{3}$"
      ],
      "text/plain": [
       "(x + y)**3"
      ]
     },
     "execution_count": 22,
     "metadata": {},
     "output_type": "execute_result"
    }
   ],
   "source": [
    "from sympy import factor\n",
    "expr1 = x**3 + 3*x**2*y + 3*x*y**2 + y**3\n",
    "factor1 = factor(expr1)\n",
    "factor1"
   ]
  },
  {
   "cell_type": "code",
   "execution_count": 23,
   "metadata": {},
   "outputs": [
    {
     "data": {
      "text/latex": [
       "$\\displaystyle x^{3} + 3 x^{2} y + 3 x y^{2} + y^{3}$"
      ],
      "text/plain": [
       "x**3 + 3*x**2*y + 3*x*y**2 + y**3"
      ]
     },
     "execution_count": 23,
     "metadata": {},
     "output_type": "execute_result"
    }
   ],
   "source": [
    "expand(factor1)"
   ]
  },
  {
   "cell_type": "code",
   "execution_count": 24,
   "metadata": {},
   "outputs": [
    {
     "data": {
      "text/latex": [
       "$\\displaystyle x^{2} + 2 x y + y^{2}$"
      ],
      "text/plain": [
       "x**2 + 2*x*y + y**2"
      ]
     },
     "execution_count": 24,
     "metadata": {},
     "output_type": "execute_result"
    }
   ],
   "source": [
    "expr = x*x +2*x*y + y*y\n",
    "expr"
   ]
  },
  {
   "cell_type": "code",
   "execution_count": 50,
   "metadata": {},
   "outputs": [
    {
     "name": "stdout",
     "output_type": "stream",
     "text": [
      " 2            2\n",
      "x  + 2⋅x⋅y + y \n"
     ]
    }
   ],
   "source": [
    "from sympy import pprint,init_printing\n",
    "init_printing(order='lex')\n",
    "pprint(expr)"
   ]
  },
  {
   "cell_type": "code",
   "execution_count": 66,
   "metadata": {},
   "outputs": [
    {
     "name": "stdout",
     "output_type": "stream",
     "text": [
      " 5    4    3    2    \n",
      "x    x    x    x     \n",
      "── + ── + ── + ── + x\n",
      "5    4    3    2     \n",
      "Value of the series at 1.2:3.51206400000000\n"
     ]
    }
   ],
   "source": [
    "from sympy import Symbol,pprint,init_printing\n",
    "def print_series(n,x_value):\n",
    "    init_printing(order='lex')\n",
    "    x = Symbol('x')\n",
    "    series = x\n",
    "    for i in range(2,n+1):\n",
    "        series = series + (x**i)/i\n",
    "    pprint(series)\n",
    "    # Evaluate the series at x_value\n",
    "    series_value = series.subs({x:x_value})\n",
    "    print('Value of the series at {0}:{1}'.format(x_value,series_value))\n",
    "print_series(5,1.2)"
   ]
  },
  {
   "cell_type": "code",
   "execution_count": 54,
   "metadata": {},
   "outputs": [
    {
     "data": {
      "image/png": "[encoded data removed]",
      "text/latex": [
       "$\\displaystyle z + 9$"
      ],
      "text/plain": [
       "z + 9"
      ]
     },
     "execution_count": 54,
     "metadata": {},
     "output_type": "execute_result"
    }
   ],
   "source": [
    "expr = x*x + 2*x*y + y*y + z\n",
    "res = expr.subs({x:1,y:2})\n",
    "res"
   ]
  },
  {
   "cell_type": "code",
   "execution_count": 56,
   "metadata": {},
   "outputs": [
    {
     "data": {
      "image/png": "[encoded data removed]",
      "text/latex": [
       "$\\displaystyle y^{2} + 2 y \\left(1 - y\\right) + \\left(1 - y\\right)^{2}$"
      ],
      "text/plain": [
       " 2                          2\n",
       "y  + 2⋅y⋅(-y + 1) + (-y + 1) "
      ]
     },
     "execution_count": 56,
     "metadata": {},
     "output_type": "execute_result"
    }
   ],
   "source": [
    "expr = x*x + 2*x*y + y*y\n",
    "expr_subs = expr.subs({x:1-y})\n",
    "expr_subs"
   ]
  },
  {
   "cell_type": "code",
   "execution_count": 57,
   "metadata": {},
   "outputs": [
    {
     "data": {
      "image/png": "[encoded data removed]",
      "text/latex": [
       "$\\displaystyle 1$"
      ],
      "text/plain": [
       "1"
      ]
     },
     "execution_count": 57,
     "metadata": {},
     "output_type": "execute_result"
    }
   ],
   "source": [
    "from sympy import simplify\n",
    "simplify(expr_subs)"
   ]
  },
  {
   "cell_type": "code",
   "execution_count": 73,
   "metadata": {},
   "outputs": [
    {
     "name": "stdout",
     "output_type": "stream",
     "text": [
      "Enter a mathematical expression: sqrt(2) + x**2 + pow(3,2)\n"
     ]
    }
   ],
   "source": [
    "from sympy import sympify\n",
    "expr = input('Enter a mathematical expression: ')"
   ]
  },
  {
   "cell_type": "code",
   "execution_count": 74,
   "metadata": {},
   "outputs": [
    {
     "data": {
      "image/png": "[encoded data removed]",
      "text/latex": [
       "$\\displaystyle x^{2} + \\operatorname{pow}{\\left(3,2 \\right)} + \\sqrt{2}$"
      ],
      "text/plain": [
       " 2                 \n",
       "x  + pow(3, 2) + √2"
      ]
     },
     "execution_count": 74,
     "metadata": {},
     "output_type": "execute_result"
    }
   ],
   "source": [
    "expr = sympify(expr)\n",
    "expr"
   ]
  },
  {
   "cell_type": "code",
   "execution_count": 75,
   "metadata": {},
   "outputs": [
    {
     "data": {
      "image/png": "[encoded data removed]",
      "text/latex": [
       "$\\displaystyle 2 x^{2} + 2 \\operatorname{pow}{\\left(3,2 \\right)} + 2 \\sqrt{2}$"
      ],
      "text/plain": [
       "   2                     \n",
       "2⋅x  + 2⋅pow(3, 2) + 2⋅√2"
      ]
     },
     "execution_count": 75,
     "metadata": {},
     "output_type": "execute_result"
    }
   ],
   "source": [
    "2*expr"
   ]
  },
  {
   "cell_type": "code",
   "execution_count": 101,
   "metadata": {},
   "outputs": [
    {
     "data": {
      "image/png": "[encoded data removed]",
      "text/latex": [
       "$\\displaystyle \\left[ \\left\\{ x : \\frac{- b + \\sqrt{- 4 a c + b^{2}}}{2 a}\\right\\}, \\  \\left\\{ x : - \\frac{b + \\sqrt{- 4 a c + b^{2}}}{2 a}\\right\\}\\right]$"
      ],
      "text/plain": [
       "⎡⎧           _____________⎫  ⎧    ⎛       _____________⎞ ⎫⎤\n",
       "⎢⎪          ╱           2 ⎪  ⎪    ⎜      ╱           2 ⎟ ⎪⎥\n",
       "⎢⎨   -b + ╲╱  -4⋅a⋅c + b  ⎬  ⎨   -⎝b + ╲╱  -4⋅a⋅c + b  ⎠ ⎬⎥\n",
       "⎢⎪x: ─────────────────────⎪, ⎪x: ────────────────────────⎪⎥\n",
       "⎣⎩            2⋅a         ⎭  ⎩             2⋅a           ⎭⎦"
      ]
     },
     "execution_count": 101,
     "metadata": {},
     "output_type": "execute_result"
    }
   ],
   "source": [
    "from sympy import Symbol,symbols,solve\n",
    "x,a,b,c = symbols('x,a,b,c')\n",
    "expr = a*x**2 + b*x + c\n",
    "expr = solve(expr,x,dict=True)\n",
    "expr"
   ]
  },
  {
   "cell_type": "code",
   "execution_count": 4,
   "metadata": {},
   "outputs": [
    {
     "name": "stdout",
     "output_type": "stream",
     "text": [
      "[{t: (-u + 1.4142135623731*sqrt(a*s + 0.5*u**2))/a}, {t: -(u + 1.4142135623731*sqrt(a*s + 0.5*u**2))/a}]\n"
     ]
    }
   ],
   "source": [
    "from sympy import Symbol,symbols,solve,pprint\n",
    "# s,u,t,a = symbols('s,u,t,a')\n",
    "s = Symbol('s')\n",
    "u = Symbol('u')\n",
    "t = Symbol('t')\n",
    "a = Symbol('a')\n",
    "expr = u*t + (1/2)*a*t*t - s\n",
    "t_expr = solve(expr,t,dict=True)\n",
    "print(t_expr)"
   ]
  },
  {
   "cell_type": "code",
   "execution_count": 41,
   "metadata": {},
   "outputs": [],
   "source": [
    "from sympy.plotting import plot\n",
    "from sympy import Symbol\n",
    "import numpy as np\n",
    "x = Symbol('x')\n",
    "expr = x**2\n",
    "p = plot(expr,(x,-5,5),title='parabola',xlabel='x',ylabel='x**2',show=False)"
   ]
  },
  {
   "cell_type": "code",
   "execution_count": 42,
   "metadata": {},
   "outputs": [
    {
     "data": {
      "image/png": "[encoded data removed]",
      "text/plain": [
       "<Figure size 432x288 with 1 Axes>"
      ]
     },
     "metadata": {
      "needs_background": "light"
     },
     "output_type": "display_data"
    }
   ],
   "source": [
    "p.save('line.png')"
   ]
  },
  {
   "cell_type": "code",
   "execution_count": 48,
   "metadata": {},
   "outputs": [
    {
     "name": "stdout",
     "output_type": "stream",
     "text": [
      "Enter an expression: 2*x + 3*y - 6\n"
     ]
    },
    {
     "data": {
      "text/plain": [
       "[2 - 2*x/3]"
      ]
     },
     "execution_count": 48,
     "metadata": {},
     "output_type": "execute_result"
    }
   ],
   "source": [
    "from sympy import sympify,Symbol,solve\n",
    "expr = input('Enter an expression: ')\n",
    "expr = sympify(expr)\n",
    "y = Symbol('y')\n",
    "solve(expr,y)"
   ]
  },
  {
   "cell_type": "code",
   "execution_count": 51,
   "metadata": {},
   "outputs": [
    {
     "data": {
      "text/latex": [
       "$\\displaystyle 2 - \\frac{2 x}{3}$"
      ],
      "text/plain": [
       "2 - 2*x/3"
      ]
     },
     "execution_count": 51,
     "metadata": {},
     "output_type": "execute_result"
    }
   ],
   "source": [
    "solutions = solve(expr,'y')\n",
    "expr_y = solutions[0]\n",
    "expr_y"
   ]
  },
  {
   "cell_type": "code",
   "execution_count": 61,
   "metadata": {},
   "outputs": [
    {
     "data": {
      "image/png": "[encoded data removed]",
      "text/plain": [
       "<Figure size 432x288 with 1 Axes>"
      ]
     },
     "metadata": {
      "needs_background": "light"
     },
     "output_type": "display_data"
    }
   ],
   "source": [
    "p = plot(x**2,x+50,legend=True,show=False)\n",
    "p[0].line_color='b'\n",
    "p[1].line_color='r'\n",
    "p.save('line.png')"
   ]
  },
  {
   "cell_type": "code",
   "execution_count": 62,
   "metadata": {},
   "outputs": [
    {
     "name": "stdout",
     "output_type": "stream",
     "text": [
      " 5    4    3    2    \n",
      "x    x    x    x     \n",
      "── + ── + ── + ── + x\n",
      "5    4    3    2     \n"
     ]
    }
   ],
   "source": [
    "n = Symbol('n')\n",
    "from sympy import summation,pprint\n",
    "s = summation(x**n/n,(n,1,5))\n",
    "pprint(s)"
   ]
  },
  {
   "cell_type": "code",
   "execution_count": 68,
   "metadata": {},
   "outputs": [
    {
     "data": {
      "text/latex": [
       "$\\displaystyle 3.512064$"
      ],
      "text/plain": [
       "3.51206400000000"
      ]
     },
     "execution_count": 68,
     "metadata": {},
     "output_type": "execute_result"
    }
   ],
   "source": [
    "s.subs({x:1.2})"
   ]
  },
  {
   "cell_type": "code",
   "execution_count": 71,
   "metadata": {},
   "outputs": [
    {
     "data": {
      "image/png": "[encoded data removed]",
      "text/plain": [
       "<Figure size 432x288 with 1 Axes>"
      ]
     },
     "metadata": {
      "needs_background": "light"
     },
     "output_type": "display_data"
    }
   ],
   "source": [
    "import matplotlib.pyplot as plt\n",
    "x = [1,2,3]\n",
    "y = [1,2,3]\n",
    "fig = plt.figure()\n",
    "ax = plt.axes()\n",
    "plt.plot(x,y)\n",
    "plt.show()"
   ]
  },
  {
   "cell_type": "code",
   "execution_count": 77,
   "metadata": {},
   "outputs": [
    {
     "data": {
      "image/png": "[encoded data removed]",
      "text/plain": [
       "<Figure size 432x288 with 1 Axes>"
      ]
     },
     "metadata": {
      "needs_background": "light"
     },
     "output_type": "display_data"
    }
   ],
   "source": [
    "'''\n",
    "Example of using matplotlib's Circle patch\n",
    "'''\n",
    "def create_circle():\n",
    "    circle = plt.Circle((0,0),radius = 0.5)\n",
    "    return circle\n",
    "def show_shape(patch):\n",
    "    ax = plt.gca()\n",
    "    ax.add_patch(patch)\n",
    "    plt.axis('scaled')\n",
    "    plt.show()\n",
    "c = create_circle()\n",
    "show_shape(c)"
   ]
  },
  {
   "cell_type": "code",
   "execution_count": 96,
   "metadata": {},
   "outputs": [
    {
     "data": {
      "image/png": "[encoded data removed]",
      "text/plain": [
       "<Figure size 432x288 with 1 Axes>"
      ]
     },
     "metadata": {
      "needs_background": "light"
     },
     "output_type": "display_data"
    }
   ],
   "source": [
    "'''\n",
    "A growing circle\n",
    "'''\n",
    "from matplotlib import animation\n",
    "def create_circle():\n",
    "    circle = plt.Circle((0,0),radius=1)\n",
    "    return circle\n",
    "def update_radius(i,circle):\n",
    "    for i in range(i):\n",
    "        circle.radius = i*5\n",
    "    return circle\n",
    "def create_animation():\n",
    "    fig = plt.gcf()\n",
    "    ax = plt.axes(xlim=(-10,10),ylim=(-10,10))\n",
    "    ax.set_aspect('equal')\n",
    "    circle = create_circle()\n",
    "    ax.add_patch(circle)\n",
    "    anim = animation.FuncAnimation(\n",
    "        fig,update_radius,fargs=(circle,),frames=30,interval=50)\n",
    "    plt.title('Simple Circle Animation')\n",
    "    plt.show()\n",
    "create_animation()    "
   ]
  },
  {
   "cell_type": "code",
   "execution_count": 100,
   "metadata": {},
   "outputs": [
    {
     "data": {
      "text/latex": [
       "$\\displaystyle 1.0$"
      ],
      "text/plain": [
       "1.00000000000000"
      ]
     },
     "execution_count": 100,
     "metadata": {},
     "output_type": "execute_result"
    }
   ],
   "source": [
    "import math as m\n",
    "from sympy import sin\n",
    "sin(m.pi/2)"
   ]
  },
  {
   "cell_type": "code",
   "execution_count": 98,
   "metadata": {},
   "outputs": [
    {
     "data": {
      "text/latex": [
       "$\\displaystyle \\theta$"
      ],
      "text/plain": [
       "theta"
      ]
     },
     "execution_count": 98,
     "metadata": {},
     "output_type": "execute_result"
    }
   ],
   "source": [
    "theta = Symbol('theta')\n",
    "theta"
   ]
  },
  {
   "cell_type": "code",
   "execution_count": 101,
   "metadata": {},
   "outputs": [
    {
     "data": {
      "text/latex": [
       "$\\displaystyle 2 \\sin{\\left(\\theta \\right)}$"
      ],
      "text/plain": [
       "2*sin(theta)"
      ]
     },
     "execution_count": 101,
     "metadata": {},
     "output_type": "execute_result"
    }
   ],
   "source": [
    "sin(theta)+sin(theta)"
   ]
  },
  {
   "cell_type": "code",
   "execution_count": 103,
   "metadata": {},
   "outputs": [
    {
     "name": "stdout",
     "output_type": "stream",
     "text": [
      "⎡u⋅sin(θ)⎤\n",
      "⎢────────⎥\n",
      "⎣   g    ⎦\n"
     ]
    }
   ],
   "source": [
    "from sympy import symbols\n",
    "u,t,g = symbols('u,t,g')\n",
    "expr = solve(u*sin(theta)-g*t,t)\n",
    "pprint(expr)"
   ]
  },
  {
   "cell_type": "code",
   "execution_count": 107,
   "metadata": {},
   "outputs": [
    {
     "name": "stdout",
     "output_type": "stream",
     "text": [
      "do something\n"
     ]
    }
   ],
   "source": [
    "x = Symbol('x',positive=True)\n",
    "if (x+5) > 0:\n",
    "    print('do something')"
   ]
  },
  {
   "cell_type": "code",
   "execution_count": 112,
   "metadata": {},
   "outputs": [
    {
     "data": {
      "text/latex": [
       "$\\displaystyle \\lim_{x \\to \\infty} \\frac{1}{x}$"
      ],
      "text/plain": [
       "Limit(1/x, x, oo, dir='-')"
      ]
     },
     "execution_count": 112,
     "metadata": {},
     "output_type": "execute_result"
    }
   ],
   "source": [
    "from sympy import Limit,S\n",
    "l = Limit(1/x,x,S.Infinity)\n",
    "l"
   ]
  },
  {
   "cell_type": "code",
   "execution_count": 113,
   "metadata": {},
   "outputs": [
    {
     "data": {
      "text/latex": [
       "$\\displaystyle 0$"
      ],
      "text/plain": [
       "0"
      ]
     },
     "execution_count": 113,
     "metadata": {},
     "output_type": "execute_result"
    }
   ],
   "source": [
    "l.doit()"
   ]
  },
  {
   "cell_type": "code",
   "execution_count": 117,
   "metadata": {},
   "outputs": [
    {
     "data": {
      "text/latex": [
       "$\\displaystyle -\\infty$"
      ],
      "text/plain": [
       "-oo"
      ]
     },
     "execution_count": 117,
     "metadata": {},
     "output_type": "execute_result"
    }
   ],
   "source": [
    "l = Limit(1/x,x,0,dir='-')\n",
    "l.doit()"
   ]
  },
  {
   "cell_type": "code",
   "execution_count": 122,
   "metadata": {},
   "outputs": [
    {
     "data": {
      "text/latex": [
       "$\\displaystyle \\lim_{x \\to 0^+}\\left(\\frac{- \\sin{\\left(x \\right)} + \\tan{\\left(x \\right)}}{x^{3}}\\right)$"
      ],
      "text/plain": [
       "Limit((-sin(x) + tan(x))/x**3, x, 0)"
      ]
     },
     "execution_count": 122,
     "metadata": {},
     "output_type": "execute_result"
    }
   ],
   "source": [
    "from sympy import tan,sin\n",
    "l = Limit((tan(x)-sin(x))/x**3,x,0)\n",
    "l"
   ]
  },
  {
   "cell_type": "code",
   "execution_count": 123,
   "metadata": {},
   "outputs": [
    {
     "data": {
      "text/latex": [
       "$\\displaystyle \\frac{1}{2}$"
      ],
      "text/plain": [
       "1/2"
      ]
     },
     "execution_count": 123,
     "metadata": {},
     "output_type": "execute_result"
    }
   ],
   "source": [
    "l.doit()"
   ]
  },
  {
   "cell_type": "code",
   "execution_count": 131,
   "metadata": {},
   "outputs": [
    {
     "data": {
      "text/latex": [
       "$\\displaystyle \\log{\\left(2 \\right)} + 2$"
      ],
      "text/plain": [
       "log(2) + 2"
      ]
     },
     "execution_count": 131,
     "metadata": {},
     "output_type": "execute_result"
    }
   ],
   "source": [
    "from sympy import log,sqrt,cos\n",
    "expr = (2**x + sin(2*x) - 1) / x\n",
    "Limit(expr,x,0).doit()"
   ]
  },
  {
   "cell_type": "code",
   "execution_count": 146,
   "metadata": {},
   "outputs": [
    {
     "data": {
      "text/latex": [
       "$\\displaystyle \\lim_{x \\to 0^+}\\left(\\frac{- \\sqrt{x + 1} + \\sqrt{x \\cos{\\left(x \\right)} + 1}}{x^{3}}\\right)$"
      ],
      "text/plain": [
       "Limit((-sqrt(x + 1) + sqrt(x*cos(x) + 1))/x**3, x, 0)"
      ]
     },
     "execution_count": 146,
     "metadata": {},
     "output_type": "execute_result"
    }
   ],
   "source": [
    "expr = (sqrt(1+x*cos(x))-sqrt(1+x)) / x**3\n",
    "l = Limit(expr,x,0)\n",
    "l"
   ]
  },
  {
   "cell_type": "code",
   "execution_count": 138,
   "metadata": {},
   "outputs": [
    {
     "data": {
      "text/latex": [
       "$\\displaystyle - \\frac{1}{4}$"
      ],
      "text/plain": [
       "-1/4"
      ]
     },
     "execution_count": 138,
     "metadata": {},
     "output_type": "execute_result"
    }
   ],
   "source": [
    "l.doit()"
   ]
  },
  {
   "cell_type": "code",
   "execution_count": 139,
   "metadata": {},
   "outputs": [
    {
     "data": {
      "text/latex": [
       "$\\displaystyle \\lim_{x \\to 0^+}\\left(\\frac{\\sin{\\left(x \\right)}}{x}\\right)$"
      ],
      "text/plain": [
       "Limit(sin(x)/x, x, 0)"
      ]
     },
     "execution_count": 139,
     "metadata": {},
     "output_type": "execute_result"
    }
   ],
   "source": [
    "expr = sin(x)/x\n",
    "l = Limit(expr,x,0)\n",
    "l"
   ]
  },
  {
   "cell_type": "code",
   "execution_count": 140,
   "metadata": {},
   "outputs": [
    {
     "data": {
      "text/latex": [
       "$\\displaystyle 1$"
      ],
      "text/plain": [
       "1"
      ]
     },
     "execution_count": 140,
     "metadata": {},
     "output_type": "execute_result"
    }
   ],
   "source": [
    "l.doit()"
   ]
  },
  {
   "cell_type": "code",
   "execution_count": 148,
   "metadata": {},
   "outputs": [
    {
     "data": {
      "text/latex": [
       "$\\displaystyle \\lim_{n \\to \\infty} \\left(1 + \\frac{1}{n}\\right)^{n}$"
      ],
      "text/plain": [
       "Limit((1 + 1/n)**n, n, oo, dir='-')"
      ]
     },
     "execution_count": 148,
     "metadata": {},
     "output_type": "execute_result"
    }
   ],
   "source": [
    "from sympy import Limit,Symbol,S\n",
    "n = Symbol('n')\n",
    "expr = (1+1/n)**n\n",
    "l = Limit(expr,n,S.Infinity)\n",
    "l"
   ]
  },
  {
   "cell_type": "code",
   "execution_count": 149,
   "metadata": {},
   "outputs": [
    {
     "data": {
      "text/latex": [
       "$\\displaystyle e$"
      ],
      "text/plain": [
       "E"
      ]
     },
     "execution_count": 149,
     "metadata": {},
     "output_type": "execute_result"
    }
   ],
   "source": [
    "l.doit()"
   ]
  },
  {
   "cell_type": "code",
   "execution_count": 150,
   "metadata": {},
   "outputs": [
    {
     "data": {
      "text/latex": [
       "$\\displaystyle \\lim_{n \\to \\infty}\\left(p \\left(1 + \\frac{r}{n}\\right)^{n t}\\right)$"
      ],
      "text/plain": [
       "Limit(p*(1 + r/n)**(n*t), n, oo, dir='-')"
      ]
     },
     "execution_count": 150,
     "metadata": {},
     "output_type": "execute_result"
    }
   ],
   "source": [
    "p = Symbol('p',positive=True)\n",
    "r = Symbol('r',positive=True)\n",
    "t = Symbol('t',positive=True)\n",
    "expr = p*(1+r/n)**(n*t)\n",
    "l = Limit(expr,n,S.Infinity)\n",
    "l"
   ]
  },
  {
   "cell_type": "code",
   "execution_count": 151,
   "metadata": {},
   "outputs": [
    {
     "data": {
      "text/latex": [
       "$\\displaystyle p e^{r t}$"
      ],
      "text/plain": [
       "p*exp(r*t)"
      ]
     },
     "execution_count": 151,
     "metadata": {},
     "output_type": "execute_result"
    }
   ],
   "source": [
    "l.doit()"
   ]
  },
  {
   "cell_type": "code",
   "execution_count": 170,
   "metadata": {},
   "outputs": [
    {
     "data": {
      "text/latex": [
       "$\\displaystyle 5 t_{1}^{2} + 2 t_{1} + 8$"
      ],
      "text/plain": [
       "5*t1**2 + 2*t1 + 8"
      ]
     },
     "execution_count": 170,
     "metadata": {},
     "output_type": "execute_result"
    }
   ],
   "source": [
    "t = Symbol('t')\n",
    "st = 5*t**2 + 2*t + 8\n",
    "t1 = Symbol('t1')\n",
    "delta_t = Symbol('delta_t')\n",
    "st1 = St.subs({t:t1})\n",
    "st1"
   ]
  },
  {
   "cell_type": "code",
   "execution_count": 175,
   "metadata": {},
   "outputs": [
    {
     "data": {
      "text/latex": [
       "$\\displaystyle 5 \\delta_{t}^{2} + 10 \\delta_{t} t_{1} + 2 \\delta_{t} + 5 t_{1}^{2} + 2 t_{1} + 8$"
      ],
      "text/plain": [
       "5*delta_t**2 + 10*delta_t*t1 + 2*delta_t + 5*t1**2 + 2*t1 + 8"
      ]
     },
     "execution_count": 175,
     "metadata": {},
     "output_type": "execute_result"
    }
   ],
   "source": [
    "st1_delta = st.subs({t:t1+delta_t})\n",
    "st1_delta.expand()"
   ]
  },
  {
   "cell_type": "code",
   "execution_count": 174,
   "metadata": {},
   "outputs": [
    {
     "data": {
      "text/latex": [
       "$\\displaystyle 5 \\delta_{t}^{2} + 10 \\delta_{t} t_{1} + 2 \\delta_{t}$"
      ],
      "text/plain": [
       "5*delta_t**2 + 10*delta_t*t1 + 2*delta_t"
      ]
     },
     "execution_count": 174,
     "metadata": {},
     "output_type": "execute_result"
    }
   ],
   "source": [
    "(st1_delta - st1).expand()"
   ]
  },
  {
   "cell_type": "code",
   "execution_count": 177,
   "metadata": {},
   "outputs": [
    {
     "data": {
      "text/latex": [
       "$\\displaystyle \\lim_{\\delta_{t} \\to 0^+}\\left(\\frac{2 \\delta_{t} - 5 t_{1}^{2} + 5 \\left(\\delta_{t} + t_{1}\\right)^{2}}{\\delta_{t}}\\right)$"
      ],
      "text/plain": [
       "Limit((2*delta_t - 5*t1**2 + 5*(delta_t + t1)**2)/delta_t, delta_t, 0)"
      ]
     },
     "execution_count": 177,
     "metadata": {},
     "output_type": "execute_result"
    }
   ],
   "source": [
    "expr = (st1_delta-st1)/delta_t\n",
    "l = Limit(expr,delta_t,0)\n",
    "l"
   ]
  },
  {
   "cell_type": "code",
   "execution_count": 178,
   "metadata": {},
   "outputs": [
    {
     "data": {
      "text/latex": [
       "$\\displaystyle \\lim_{\\delta_{t} \\to 0^+}\\left(5 \\delta_{t} + 10 t_{1} + 2\\right)$"
      ],
      "text/plain": [
       "Limit(5*delta_t + 10*t1 + 2, delta_t, 0)"
      ]
     },
     "execution_count": 178,
     "metadata": {},
     "output_type": "execute_result"
    }
   ],
   "source": [
    "l.expand()"
   ]
  },
  {
   "cell_type": "code",
   "execution_count": 179,
   "metadata": {},
   "outputs": [
    {
     "data": {
      "text/latex": [
       "$\\displaystyle 10 t_{1} + 2$"
      ],
      "text/plain": [
       "10*t1 + 2"
      ]
     },
     "execution_count": 179,
     "metadata": {},
     "output_type": "execute_result"
    }
   ],
   "source": [
    "l.doit()"
   ]
  },
  {
   "cell_type": "code",
   "execution_count": 4,
   "metadata": {},
   "outputs": [
    {
     "data": {
      "text/latex": [
       "$\\displaystyle \\frac{d}{d t} \\left(5 t^{2} + 2 t + 8\\right)$"
      ],
      "text/plain": [
       "Derivative(5*t**2 + 2*t + 8, t)"
      ]
     },
     "execution_count": 4,
     "metadata": {},
     "output_type": "execute_result"
    }
   ],
   "source": [
    "from sympy import Symbol,Derivative\n",
    "t = Symbol('t')\n",
    "st = 5*t**2 + 2*t + 8\n",
    "d = Derivative(st,t)\n",
    "d"
   ]
  },
  {
   "cell_type": "code",
   "execution_count": 5,
   "metadata": {},
   "outputs": [
    {
     "data": {
      "text/latex": [
       "$\\displaystyle 10 t + 2$"
      ],
      "text/plain": [
       "10*t + 2"
      ]
     },
     "execution_count": 5,
     "metadata": {},
     "output_type": "execute_result"
    }
   ],
   "source": [
    "d.doit()"
   ]
  },
  {
   "cell_type": "code",
   "execution_count": 7,
   "metadata": {},
   "outputs": [
    {
     "data": {
      "text/latex": [
       "$\\displaystyle 10 t_{1} + 2$"
      ],
      "text/plain": [
       "10*t1 + 2"
      ]
     },
     "execution_count": 7,
     "metadata": {},
     "output_type": "execute_result"
    }
   ],
   "source": [
    "t1 = Symbol('t1')\n",
    "d.doit().subs({t:t1})"
   ]
  },
  {
   "cell_type": "code",
   "execution_count": 8,
   "metadata": {},
   "outputs": [
    {
     "data": {
      "text/latex": [
       "$\\displaystyle 12$"
      ],
      "text/plain": [
       "12"
      ]
     },
     "execution_count": 8,
     "metadata": {},
     "output_type": "execute_result"
    }
   ],
   "source": [
    "d.doit().subs({t:1})"
   ]
  },
  {
   "cell_type": "code",
   "execution_count": 51,
   "metadata": {},
   "outputs": [
    {
     "data": {
      "text/latex": [
       "$\\displaystyle \\frac{d}{d x} 2.71828182845905^{\\tan{\\left(\\sqrt{x} \\right)}}$"
      ],
      "text/plain": [
       "Derivative(2.71828182845905**tan(sqrt(x)), x)"
      ]
     },
     "execution_count": 51,
     "metadata": {},
     "output_type": "execute_result"
    }
   ],
   "source": [
    "import sympy\n",
    "from sympy import tan,sqrt\n",
    "import numpy as np\n",
    "x = Symbol('x')\n",
    "e = Symbol('e')\n",
    "f = np.e**tan(sqrt(x))\n",
    "d = Derivative(f,x)\n",
    "d"
   ]
  },
  {
   "cell_type": "code",
   "execution_count": 52,
   "metadata": {},
   "outputs": [
    {
     "data": {
      "text/latex": [
       "$\\displaystyle \\frac{0.5 \\cdot 2.71828182845905^{\\tan{\\left(\\sqrt{x} \\right)}} \\left(\\tan^{2}{\\left(\\sqrt{x} \\right)} + 1\\right)}{\\sqrt{x}}$"
      ],
      "text/plain": [
       "0.5*2.71828182845905**tan(sqrt(x))*(tan(sqrt(x))**2 + 1)/sqrt(x)"
      ]
     },
     "execution_count": 52,
     "metadata": {},
     "output_type": "execute_result"
    }
   ],
   "source": [
    "d.doit()"
   ]
  },
  {
   "cell_type": "code",
   "execution_count": 46,
   "metadata": {},
   "outputs": [
    {
     "data": {
      "text/latex": [
       "$\\displaystyle \\frac{d}{d x} \\operatorname{atan}{\\left(\\sin^{2}{\\left(x \\right)} \\right)}$"
      ],
      "text/plain": [
       "Derivative(atan(sin(x)**2), x)"
      ]
     },
     "execution_count": 46,
     "metadata": {},
     "output_type": "execute_result"
    }
   ],
   "source": [
    "from sympy import atan,sin\n",
    "f = atan(sin(x)**2)\n",
    "d = Derivative(f,x)\n",
    "d"
   ]
  },
  {
   "cell_type": "code",
   "execution_count": 50,
   "metadata": {},
   "outputs": [
    {
     "data": {
      "text/latex": [
       "$\\displaystyle \\frac{2 \\sin{\\left(x \\right)} \\cos{\\left(x \\right)}}{\\sin^{4}{\\left(x \\right)} + 1}$"
      ],
      "text/plain": [
       "2*sin(x)*cos(x)/(sin(x)**4 + 1)"
      ]
     },
     "execution_count": 50,
     "metadata": {},
     "output_type": "execute_result"
    }
   ],
   "source": [
    "d.doit()"
   ]
  },
  {
   "cell_type": "code",
   "execution_count": 87,
   "metadata": {},
   "outputs": [
    {
     "data": {
      "text/latex": [
       "$\\displaystyle \\frac{\\partial}{\\partial y} \\left(x y^{2} + 2 x y\\right)$"
      ],
      "text/plain": [
       "Derivative(x*y**2 + 2*x*y, y)"
      ]
     },
     "execution_count": 87,
     "metadata": {},
     "output_type": "execute_result"
    }
   ],
   "source": [
    "y = Symbol('y')\n",
    "f = 2*x*y + x*y**2\n",
    "d = Derivative(f,y)\n",
    "d"
   ]
  },
  {
   "cell_type": "code",
   "execution_count": 88,
   "metadata": {},
   "outputs": [
    {
     "data": {
      "text/latex": [
       "$\\displaystyle 2 x y + 2 x$"
      ],
      "text/plain": [
       "2*x*y + 2*x"
      ]
     },
     "execution_count": 88,
     "metadata": {},
     "output_type": "execute_result"
    }
   ],
   "source": [
    "d.doit()"
   ]
  },
  {
   "cell_type": "code",
   "execution_count": 109,
   "metadata": {},
   "outputs": [
    {
     "data": {
      "text/latex": [
       "$\\displaystyle \\frac{d}{d x} \\left(x^{5} - 30 x^{3} + 50 x\\right)$"
      ],
      "text/plain": [
       "Derivative(x**5 - 30*x**3 + 50*x, x)"
      ]
     },
     "execution_count": 109,
     "metadata": {},
     "output_type": "execute_result"
    }
   ],
   "source": [
    "from sympy import Symbol,solve,Derivative\n",
    "x = Symbol('x')\n",
    "f = x**5 - 30*x**3 + 50*x\n",
    "d = Derivative(f,x)\n",
    "d"
   ]
  },
  {
   "cell_type": "code",
   "execution_count": 114,
   "metadata": {},
   "outputs": [
    {
     "data": {
      "image/png": "[encoded data removed]",
      "text/plain": [
       "<Figure size 432x288 with 1 Axes>"
      ]
     },
     "metadata": {
      "needs_background": "light"
     },
     "output_type": "display_data"
    },
    {
     "data": {
      "text/plain": [
       "<sympy.plotting.plot.Plot at 0x7f36638afc88>"
      ]
     },
     "execution_count": 114,
     "metadata": {},
     "output_type": "execute_result"
    }
   ],
   "source": [
    "from sympy.plotting import plot\n",
    "plot(f,(x,-6,6))"
   ]
  },
  {
   "cell_type": "code",
   "execution_count": 115,
   "metadata": {},
   "outputs": [
    {
     "data": {
      "text/latex": [
       "$\\displaystyle 5 x^{4} - 90 x^{2} + 50$"
      ],
      "text/plain": [
       "5*x**4 - 90*x**2 + 50"
      ]
     },
     "execution_count": 115,
     "metadata": {},
     "output_type": "execute_result"
    }
   ],
   "source": [
    "d1 = d.doit()\n",
    "d1"
   ]
  },
  {
   "cell_type": "code",
   "execution_count": 117,
   "metadata": {},
   "outputs": [
    {
     "data": {
      "image/png": "[encoded data removed]",
      "text/plain": [
       "<Figure size 432x288 with 1 Axes>"
      ]
     },
     "metadata": {
      "needs_background": "light"
     },
     "output_type": "display_data"
    },
    {
     "data": {
      "text/plain": [
       "<sympy.plotting.plot.Plot at 0x7f3663748f98>"
      ]
     },
     "execution_count": 117,
     "metadata": {},
     "output_type": "execute_result"
    }
   ],
   "source": [
    "plot(d1,(x,-5,5))"
   ]
  },
  {
   "cell_type": "code",
   "execution_count": 118,
   "metadata": {},
   "outputs": [
    {
     "name": "stdout",
     "output_type": "stream",
     "text": [
      "⎡   _________    _________     _________    _________⎤\n",
      "⎣-╲╱ 9 - √71 , ╲╱ 9 - √71 , -╲╱ √71 + 9 , ╲╱ √71 + 9 ⎦\n"
     ]
    }
   ],
   "source": [
    "critical_points = solve(d1)\n",
    "pprint(critical_points)"
   ]
  },
  {
   "cell_type": "code",
   "execution_count": 127,
   "metadata": {},
   "outputs": [
    {
     "name": "stdout",
     "output_type": "stream",
     "text": [
      "-0.757529027050212\n",
      "0.757529027050212\n",
      "-4.17446401028639\n",
      "4.17446401028639\n"
     ]
    }
   ],
   "source": [
    "for i in range(len(critical_points)):\n",
    "    print(critical_points[i].evalf())"
   ]
  },
  {
   "cell_type": "code",
   "execution_count": 10,
   "metadata": {},
   "outputs": [
    {
     "data": {
      "text/latex": [
       "$\\displaystyle -705.9524638143$"
      ],
      "text/plain": [
       "-705.952463814300"
      ]
     },
     "execution_count": 10,
     "metadata": {},
     "output_type": "execute_result"
    }
   ],
   "source": [
    "from sympy import sqrt,Symbol,Derivative\n",
    "x = Symbol('x')\n",
    "f = x**5 - 30*x**3 + 50*x\n",
    "f.subs({x:4.17})"
   ]
  },
  {
   "cell_type": "code",
   "execution_count": 12,
   "metadata": {},
   "outputs": [
    {
     "data": {
      "text/latex": [
       "$\\displaystyle 20 x \\left(x^{2} - 9\\right)$"
      ],
      "text/plain": [
       "20*x*(x**2 - 9)"
      ]
     },
     "execution_count": 12,
     "metadata": {},
     "output_type": "execute_result"
    }
   ],
   "source": [
    "d2 = Derivative(f,x,2).doit()\n",
    "d2"
   ]
  },
  {
   "cell_type": "code",
   "execution_count": 37,
   "metadata": {},
   "outputs": [
    {
     "data": {
      "image/png": "[encoded data removed]",
      "text/plain": [
       "<Figure size 432x288 with 1 Axes>"
      ]
     },
     "metadata": {
      "needs_background": "light"
     },
     "output_type": "display_data"
    },
    {
     "data": {
      "text/plain": [
       "<sympy.plotting.plot.Plot at 0x7f9e793d6198>"
      ]
     },
     "execution_count": 37,
     "metadata": {},
     "output_type": "execute_result"
    }
   ],
   "source": [
    "from sympy.plotting import plot\n",
    "plot(d2,(x,-3.5,3.5))"
   ]
  },
  {
   "cell_type": "code",
   "execution_count": 35,
   "metadata": {},
   "outputs": [
    {
     "data": {
      "text/plain": [
       "[-3, 0, 3]"
      ]
     },
     "execution_count": 35,
     "metadata": {},
     "output_type": "execute_result"
    }
   ],
   "source": [
    "from sympy import solve\n",
    "solve(d2)"
   ]
  },
  {
   "cell_type": "code",
   "execution_count": 38,
   "metadata": {},
   "outputs": [
    {
     "data": {
      "text/latex": [
       "$\\displaystyle -127.58403814$"
      ],
      "text/plain": [
       "-127.584038140000"
      ]
     },
     "execution_count": 38,
     "metadata": {},
     "output_type": "execute_result"
    }
   ],
   "source": [
    "d2.subs({x:0.757})"
   ]
  },
  {
   "cell_type": "code",
   "execution_count": 41,
   "metadata": {},
   "outputs": [
    {
     "data": {
      "text/latex": [
       "$\\displaystyle 703.09160048$"
      ],
      "text/plain": [
       "703.091600480000"
      ]
     },
     "execution_count": 41,
     "metadata": {},
     "output_type": "execute_result"
    }
   ],
   "source": [
    "d2.subs({x:4.174})"
   ]
  },
  {
   "cell_type": "code",
   "execution_count": 43,
   "metadata": {},
   "outputs": [
    {
     "data": {
      "text/latex": [
       "$\\displaystyle 375$"
      ],
      "text/plain": [
       "375"
      ]
     },
     "execution_count": 43,
     "metadata": {},
     "output_type": "execute_result"
    }
   ],
   "source": [
    "f.subs({x:-5}).doit()"
   ]
  },
  {
   "cell_type": "code",
   "execution_count": 44,
   "metadata": {},
   "outputs": [],
   "source": [
    "'''\n",
    "Use gradient ascent to find the angle at which the projectile\n",
    "has maximum range for a fixed velocity, 25m/s\n",
    "'''\n",
    "import math as m\n",
    "from sympy import Derivative,Symbol,sin\n",
    "def grad_ascent(x0,f1x,x):\n",
    "    epsilon = 1e-6\n",
    "    step_size = 1e-4\n",
    "    x_old = x0\n",
    "    x_new = x_old + step_size*f1x.subs({x:x_old}).evalf()\n",
    "    while abs(x_old - x_new) > epsilon:\n",
    "        x_old = x_new\n",
    "        x_new = x_old + step_size*f1x.subs({x:x_old}).evalf()\n",
    "    return x_new\n",
    "def find_max_theta(R,theta):\n",
    "    # Calculate the first derivative\n",
    "    R1theta = Derivative(R,theta).doit()\n",
    "    theta0 = 1e-3\n",
    "    theta_max = grad_ascent(theta0,R1theta,theta)\n",
    "    return theta_max"
   ]
  },
  {
   "cell_type": "code",
   "execution_count": 51,
   "metadata": {},
   "outputs": [
    {
     "name": "stdout",
     "output_type": "stream",
     "text": [
      "Theta: 44.997815081691805\n",
      "Maximum Range: 63.7755100185965\n"
     ]
    }
   ],
   "source": [
    "g = 9.8\n",
    "# Assume initial velocity\n",
    "u = 25\n",
    "# Expression for range\n",
    "theta = Symbol('theta')\n",
    "R = u**2*sin(2*theta)/g\n",
    "theta_max = find_max_theta(R,theta)\n",
    "print('Theta: {0}'.format(m.degrees(theta_max)))\n",
    "print('Maximum Range: {0}'.format(R.subs({theta:theta_max})))"
   ]
  },
  {
   "cell_type": "code",
   "execution_count": 54,
   "metadata": {},
   "outputs": [],
   "source": [
    "'''\n",
    "Generate equally spaced floating point\n",
    "numbers between two given values\n",
    "'''\n",
    "def frange(start,final,increment):\n",
    "    numbers = []\n",
    "    while start < final:\n",
    "        numbers.append(start)\n",
    "        start = start + increment\n",
    "    return numbers\n",
    "'''\n",
    "Draw the trajectory of a body in projectile motion\n",
    "'''\n",
    "from matplotlib import pyplot as plt\n",
    "import math\n",
    "def draw_graph(x,y):\n",
    "    plt.plot(x,y)\n",
    "    plt.xlabel('x-coordinate')\n",
    "    plt.ylabel('y-coordinate')\n",
    "    plt.title('Projectile motion of a ball')\n",
    "def draw_trajectory(u,theta):\n",
    "    theta = math.radians(theta)\n",
    "    g = 9.8\n",
    "    # Time of flight\n",
    "    t_flight = 2*u*math.sin(theta)/g\n",
    "    # Find time intervals\n",
    "    intervals = frange(0,t_flight,0.001)\n",
    "    # List of x and y coordinates\n",
    "    x = []\n",
    "    y = []\n",
    "    for t in intervals:\n",
    "        x.append(u*math.cos(theta)*t)\n",
    "        y.append(u*math.sin(theta)*t - 0.5*g*t**2)\n",
    "    draw_graph(x,y)          "
   ]
  },
  {
   "cell_type": "code",
   "execution_count": 62,
   "metadata": {},
   "outputs": [
    {
     "name": "stdout",
     "output_type": "stream",
     "text": [
      "Enter the initial velocity (m/s): 24\n",
      "Enter the angle of projection (degrees): 60\n"
     ]
    },
    {
     "data": {
      "image/png": "[encoded data removed]",
      "text/plain": [
       "<Figure size 432x288 with 1 Axes>"
      ]
     },
     "metadata": {
      "needs_background": "light"
     },
     "output_type": "display_data"
    }
   ],
   "source": [
    "try:\n",
    "    u = float(input('Enter the initial velocity (m/s): '))\n",
    "    theta = float(input('Enter the angle of projection (degrees): '))\n",
    "except ValueError:\n",
    "    print('You entered an invalid input')\n",
    "else:\n",
    "    draw_trajectory(u,theta)\n",
    "    plt.show()"
   ]
  },
  {
   "cell_type": "code",
   "execution_count": 63,
   "metadata": {},
   "outputs": [
    {
     "data": {
      "image/png": "[encoded data removed]",
      "text/plain": [
       "<Figure size 432x288 with 1 Axes>"
      ]
     },
     "metadata": {
      "needs_background": "light"
     },
     "output_type": "display_data"
    }
   ],
   "source": [
    "# List of three different initial velocities\n",
    "u_list = [20,40,60]\n",
    "theta = 45\n",
    "for u in u_list:\n",
    "    draw_trajectory(u,theta)\n",
    "# Add a legend and show the graph\n",
    "plt.legend(['20','40','60'])\n",
    "plt.show()"
   ]
  },
  {
   "cell_type": "code",
   "execution_count": 68,
   "metadata": {},
   "outputs": [
    {
     "data": {
      "image/png": "[encoded data removed]",
      "text/plain": [
       "<Figure size 432x288 with 1 Axes>"
      ]
     },
     "metadata": {
      "needs_background": "light"
     },
     "output_type": "display_data"
    }
   ],
   "source": [
    "# List of three different initial velocities\n",
    "u_list = [20]\n",
    "theta = [15,45,60]\n",
    "for theta in theta:\n",
    "    draw_trajectory(u,theta)\n",
    "# Add a legend and show the graph\n",
    "plt.legend(['10','45','60'])\n",
    "plt.show()"
   ]
  },
  {
   "cell_type": "code",
   "execution_count": 70,
   "metadata": {},
   "outputs": [
    {
     "data": {
      "image/png": "[encoded data removed]",
      "text/plain": [
       "<Figure size 432x288 with 1 Axes>"
      ]
     },
     "metadata": {
      "needs_background": "light"
     },
     "output_type": "display_data"
    }
   ],
   "source": [
    "'''\n",
    "Example of drawing a horizontal bar chart\n",
    "'''\n",
    "import matplotlib.pyplot as plt\n",
    "def create_bar_chart(data,labels):\n",
    "    # Number of bars\n",
    "    num_bars = len(data)\n",
    "    # This list is the point on the y-axis where each\n",
    "    # Bar is centered . Here it will be [1,2,3...]\n",
    "    positions = range(1,num_bars+1)\n",
    "    plt.barh(positions,data,align='center')\n",
    "    # Set the label of each bar\n",
    "    plt.yticks(positions,labels)\n",
    "    plt.xlabel('Steps')\n",
    "    plt.ylabel('Day')\n",
    "    plt.title('Number of steps walked')\n",
    "    # Turns on the grid which may assist in visual estimation\n",
    "    plt.grid()\n",
    "    plt.show()\n",
    "# Number of steps I walked during the past week\n",
    "steps = [65534,7000,8900,10786,3467,11045,5095]\n",
    "# Corresponding days,\n",
    "labels = ['Sun','Mon','Tue','Wed','Thu','Fri','Sat']\n",
    "create_bar_chart(steps,labels)    "
   ]
  },
  {
   "cell_type": "code",
   "execution_count": 77,
   "metadata": {},
   "outputs": [
    {
     "name": "stdout",
     "output_type": "stream",
     "text": [
      "[1, 1, 2, 3, 5, 8, 13, 21, 34, 55, 89, 144]\n"
     ]
    },
    {
     "data": {
      "text/plain": [
       "[<matplotlib.lines.Line2D at 0x7f9e7875e278>]"
      ]
     },
     "execution_count": 77,
     "metadata": {},
     "output_type": "execute_result"
    },
    {
     "data": {
      "image/png": "[encoded data removed]",
      "text/plain": [
       "<Figure size 432x288 with 1 Axes>"
      ]
     },
     "metadata": {
      "needs_background": "light"
     },
     "output_type": "display_data"
    }
   ],
   "source": [
    "def fibo(n):\n",
    "    if n == 1:\n",
    "        return [1]\n",
    "    if n == 2:\n",
    "        return [1,1]\n",
    "    # n > 2\n",
    "    a = 1\n",
    "    b = 1\n",
    "    # First two members of the series\n",
    "    series = [a,b]\n",
    "    for i in range(n):\n",
    "        c = a + b\n",
    "        series.append(c)\n",
    "        a = b\n",
    "        b = c\n",
    "    return series\n",
    "f = fibo(10)\n",
    "print(f)\n",
    "plt.plot(f)"
   ]
  },
  {
   "cell_type": "code",
   "execution_count": 79,
   "metadata": {},
   "outputs": [
    {
     "data": {
      "text/plain": [
       "500.0"
      ]
     },
     "execution_count": 79,
     "metadata": {},
     "output_type": "execute_result"
    }
   ],
   "source": [
    "'''\n",
    "Calculating the mean\n",
    "'''\n",
    "def calculate_mean(numbers):\n",
    "    s = sum(numbers)\n",
    "    N = len(numbers)\n",
    "    # Calculate the mean\n",
    "    mean = s/N\n",
    "    return mean\n",
    "def calculate_median(numbers):\n",
    "    N = len(numbers)\n",
    "    numbers.sort()\n",
    "    # Find the median\n",
    "    if N%2 == 0:\n",
    "        m1 = N/2\n",
    "        m2 = (N/2) + 1\n",
    "        # Convert to integer, match position\n",
    "        m1 = int(m1) - 1\n",
    "        m2 = int(m2) - 1\n",
    "        median = (numbers[m1] + numbers[m2]) / 2\n",
    "    else:\n",
    "        m = (N+1) / 2\n",
    "        # Convert to integer, match position\n",
    "        m = int(m) - 1\n",
    "        median = numbers[m]\n",
    "    return median\n",
    "donations = [100, 60, 70, 900, 100, 200, 500, 500, 503, 600, 1000, 1200]\n",
    "median = calculate_median(donations)\n",
    "median"
   ]
  },
  {
   "cell_type": "code",
   "execution_count": 81,
   "metadata": {},
   "outputs": [
    {
     "data": {
      "text/plain": [
       "[(4, 3), (2, 2), (3, 1), (31, 1)]"
      ]
     },
     "execution_count": 81,
     "metadata": {},
     "output_type": "execute_result"
    }
   ],
   "source": [
    "simplelist = [4,4,4,2,2,3,31]\n",
    "from collections import Counter\n",
    "c = Counter(simplelist)\n",
    "c.most_common()"
   ]
  },
  {
   "cell_type": "code",
   "execution_count": 86,
   "metadata": {},
   "outputs": [
    {
     "data": {
      "text/plain": [
       "[(4, 3), (2, 2), (3, 1)]"
      ]
     },
     "execution_count": 86,
     "metadata": {},
     "output_type": "execute_result"
    }
   ],
   "source": [
    "c.most_common(3)"
   ]
  },
  {
   "cell_type": "code",
   "execution_count": 87,
   "metadata": {},
   "outputs": [
    {
     "data": {
      "text/plain": [
       "[(4, 3)]"
      ]
     },
     "execution_count": 87,
     "metadata": {},
     "output_type": "execute_result"
    }
   ],
   "source": [
    "mode = c.most_common(1)\n",
    "mode"
   ]
  },
  {
   "cell_type": "code",
   "execution_count": 88,
   "metadata": {},
   "outputs": [
    {
     "data": {
      "text/plain": [
       "(4, 3)"
      ]
     },
     "execution_count": 88,
     "metadata": {},
     "output_type": "execute_result"
    }
   ],
   "source": [
    "mode[0]"
   ]
  },
  {
   "cell_type": "code",
   "execution_count": 91,
   "metadata": {},
   "outputs": [
    {
     "data": {
      "text/plain": [
       "4"
      ]
     },
     "execution_count": 91,
     "metadata": {},
     "output_type": "execute_result"
    }
   ],
   "source": [
    "mode[0][0]"
   ]
  },
  {
   "cell_type": "code",
   "execution_count": 93,
   "metadata": {},
   "outputs": [
    {
     "name": "stdout",
     "output_type": "stream",
     "text": [
      "The mode of the list of the numbers is: 9\n"
     ]
    }
   ],
   "source": [
    "'''Calculating the mode'''\n",
    "from collections import Counter\n",
    "def calculate_mode(numbers):\n",
    "    c = Counter(numbers)\n",
    "    mode = c.most_common(1)\n",
    "    return mode[0][0]\n",
    "scores = [7, 8, 9, 2, 10, 9, 9, 9, 9, 4, 5, 6, 1, 5, 6, 7, 8, 6, 1, 10]\n",
    "mode = calculate_mode(scores)\n",
    "print('The mode of the list of the numbers is: {0}'.format(mode))"
   ]
  },
  {
   "cell_type": "code",
   "execution_count": 99,
   "metadata": {},
   "outputs": [
    {
     "name": "stdout",
     "output_type": "stream",
     "text": [
      "The mode(s) of the list of numbers are:\n",
      "5\n",
      "4\n"
     ]
    }
   ],
   "source": [
    "'''\n",
    "Calculating the mode when the list of numbers may\n",
    "have multiple modes\n",
    "'''\n",
    "from collections import Counter\n",
    "def calculate_mode(numbers):\n",
    "    c = Counter(numbers)\n",
    "    numbers_freq = c.most_common()\n",
    "    max_count = numbers_freq[0][1]\n",
    "    \n",
    "    modes = []\n",
    "    for num in numbers_freq:\n",
    "        if num[1] == max_count:\n",
    "            modes.append(num[0])\n",
    "    return modes\n",
    "scores = [5, 5, 5, 4, 4, 4, 9, 1, 3]\n",
    "modes = calculate_mode(scores)\n",
    "print('The mode(s) of the list of numbers are:') \n",
    "for mode in modes:\n",
    "    print(mode)"
   ]
  },
  {
   "cell_type": "code",
   "execution_count": 100,
   "metadata": {},
   "outputs": [
    {
     "name": "stdout",
     "output_type": "stream",
     "text": [
      "Number\tFrequency\n",
      "9\t5\n",
      "6\t3\n",
      "7\t2\n",
      "8\t2\n",
      "10\t2\n",
      "5\t2\n",
      "1\t2\n",
      "2\t1\n",
      "4\t1\n"
     ]
    }
   ],
   "source": [
    "'''\n",
    "Frequency table for a list of numbers\n",
    "'''\n",
    "from collections import Counter\n",
    "def frequency_table(numbers):\n",
    "    table = Counter(numbers)\n",
    "    print('Number\\tFrequency')\n",
    "    for number in table.most_common():\n",
    "        print('{0}\\t{1}'.format(number[0],number[1]))\n",
    "scores = [7, 8, 9, 2, 10, 9, 9, 9, 9, 4, 5, 6, 1, 5, 6, 7, 8, 6, 1, 10]\n",
    "frequency_table(scores)"
   ]
  },
  {
   "cell_type": "code",
   "execution_count": 103,
   "metadata": {},
   "outputs": [
    {
     "name": "stdout",
     "output_type": "stream",
     "text": [
      "Number\tFrequency\n",
      "1\t2\n",
      "2\t1\n",
      "4\t1\n",
      "5\t2\n",
      "6\t3\n",
      "7\t2\n",
      "8\t2\n",
      "9\t5\n",
      "10\t2\n"
     ]
    }
   ],
   "source": [
    "'''\n",
    "Frequency table for a list of numbers\n",
    "Enhanced to display the table sorted by the numbers\n",
    "'''\n",
    "from collections import Counter\n",
    "def frequency_table(numbers):\n",
    "    table = Counter(numbers)\n",
    "    numbers_freq = table.most_common()\n",
    "    numbers_freq.sort()\n",
    "    print('Number\\tFrequency')\n",
    "    for number in numbers_freq:\n",
    "        print('{0}\\t{1}'.format(number[0],number[1]))\n",
    "scores = [7, 8, 9, 2, 10, 9, 9, 9, 9, 4, 5, 6, 1, 5, 6, 7, 8, 6, 1, 10]\n",
    "frequency_table(scores)"
   ]
  },
  {
   "cell_type": "code",
   "execution_count": null,
   "metadata": {},
   "outputs": [],
   "source": []
  }
 ],
 "metadata": {
  "kernelspec": {
   "display_name": "Python 3",
   "language": "python",
   "name": "python3"
  },
  "language_info": {
   "codemirror_mode": {
    "name": "ipython",
    "version": 3
   },
   "file_extension": ".py",
   "mimetype": "text/x-python",
   "name": "python",
   "nbconvert_exporter": "python",
   "pygments_lexer": "ipython3",
   "version": "3.8.5"
  }
 },
 "nbformat": 4,
 "nbformat_minor": 4
}
