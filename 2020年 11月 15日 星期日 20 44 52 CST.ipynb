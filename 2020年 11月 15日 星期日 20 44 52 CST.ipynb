{
 "cells": [
  {
   "cell_type": "markdown",
   "metadata": {},
   "source": [
    "## 5.1 Python's sequence types\n",
    "In this chapter, we explore python's various 'sequence' classes, namely the built-in list, tuple, and str classes. There is significant commonality n.共性  between these classes, most notably adv. 显著地；尤其 each supports indexing to access an individual element of a sequence, using a syntax such as seq[k], and each uses a low-level concept known as an array to represent the sequence. However, there are significant differences in the abstractions that these classes represent, and in the way that instances of these classes are represented internally by python. Because these classes are used to widely in python programs, and because they will become building blocks upon which we will develop more complex data structures, it is imperative adj. 必要的，不可避免的 that we establish a clear understanding of both the public behavior and inner workings of these classes.\n",
    "### public Behaviors\n",
    "A proper understanding of the outward semantics n.语义学；语义论 for a class is a necessity for good programmer. While the basic usage of lists, strings, and tuples may seem straightforward, there are several important subtleties n. 微妙；阴险；敏锐 regarding the behaviors associated with these classes (such as what it means to make a copy of a sequence, or to take a slice of a sequence). Having a misunderstanding of a behavior can easily lead to inadvertent adj. 疏忽的；不注意的 bugs in a program. Therefore, we establish an accurate mental model for each of these classes. These images will help when exploring more advanced usage, such as representing a multidimensional data set as a list of lists.\n",
    "### Implementation Details\n",
    "A focus on the internal implementations of these classes seems to go against our stated principles of object-oriented programming. In Section 2.1.2, we emphasized the principle of encapsulation n. 封装；包装, noting that the user of a class need not know about the internal details of the implementation. While it is true that one only needs to understand the syntax and semantics of a class's public interface in order to be able to write legal and correct code that uses instances of the class, the efficiency of a program depends greatly on the efficiency of the components upon which it relies.\n",
    "### Asymptotic and Experimental Analyses\n",
    "In describing the efficiency of various operations for Python's sequence classes, we will rely on the formal asymptotic analysis notations n. 符号 established in Chapter 3. We will also perform experimental analyses of the primary operations to provide empirical adj. 经验主义的 evidence that is consistent adj. 始终如一的，一致的；坚持的 with the more theoretical asymptotic analyses.\n"
   ]
  },
  {
   "cell_type": "markdown",
   "metadata": {},
   "source": [
    "## 5.2 Low-Level Arrays\n",
    "To accurately describe the way in which python represents the sequence types, we must first discuss aspects of the low-level computer architecture. The primary memory of a computer is composed of bits of information, and those bits are typically grouped into larger units that depend upon the precise system architecture. Such a typical unit is a byte, which is equivalent to 8 bits.\\\n",
    "A computer system will have a huge number of bytes of memory, and to keep track of what information is stored in what byte, the computer uses an abstration known as a memory address. In effect 实际上；生效, each byte of memory is associated with a unique number that serves as its address (more formally, the binary representation of the number serves as the address). In this way, the computer system can refer to the data in \"byte #2150\" versus the data in \"byte #2157,\" for example. Memory addresses are typically coordinated with 使协调；配合 the physical layout of the memory system, and so we often portray the numbers in sequential fashion. Figure 5.1 provides such a diagram, with the designated  adj. 指定的；特指的 memory address for each byte.\n",
    "Figure 5.1: A representation of a portion of a computer's memory, with individual bytes labeled with consecutive memory addresses.\n",
    "Despite the sequential nature of the numbering system, computer hardware is designed, in theory, so that any byte of the main memory can be efficiently accessed based upon its memory address. In this sense 从这个意义上来说, we say that a computer's main memory performs as random access memory(RAM). That is, it is just as easy to retrieve byte #8675309 as it is to retrieve byte #309. (In practice, there are complicating 并发；使复杂化 facotrs including the use of caches and external memory; we address some of those issues in Chapter 15.) Using the notation n. 符号 for asymptotic analysis, we say that any individual byte of memory can be stored or retrieved in O(1) time.\\\n",
    "In general, a programming language keeps track of the association between an identifier and the memory address in which the associated value is stored. For example, identifier x might be associated with one value stored in memory, while y is associated with another value stored in memory. A common programming task is to keep track of a sequence of related objects. For example, we may want a video game to keep track of the top ten scores for that game. Rather than use ten different variables for this task, we would prefer to use a single name for the group and use index numbers to refer to the high scores in that group.\\\n",
    "A group of related variables can be stored one after another in a contiguous adj. 连续的  portion of the computer's memory. We will denote such a representation as an array. As a tangible adj. 有形的；切实的；可触摸的 example, a text string is stored as an ordered sequence of individual characters. In Python, each character is represented using the Unicode character set, and on most computing systems, Python internally represents each Unicode character with 16 bits(i.e., 2 bytes). Therefore, a six-character string, such as 'SAMPLE', would be stored in 12 consecutive bytes of memory, as diagrammed in Figure 5.2: A python string embedded as an array of characters in the computer's memory. We assume that each Unicode character of the string requires two bytes of memory. The numbers below the entries are indices into the string.\\\n",
    "We describle this as an array of six characters, even though it requires 12 bytes of memory. We will refer to 参考；涉及；指的是；适用于 each location within an array as a cell, and will use an integer index to describle its location within the array, with cells numberred starting with 0,1,2,and so on. For example, in Figure 5.2, the cell of the array with index 4 has contents L and is stored in bytes 2154 and 2155 of memory.\\\n",
    "Each cell of an array must use the same number of bytes. This requirement is what allows an arbitrary cell of the array to be accessed in constant time based on its index. In particular, if one knows the memory address at which an array starts (e.g.,2146 in Figure 5.2), the number of bytes per element (e.g.,2 for a Unicode character), and a desired index within the array, the appropriate memory address can be computed using the calculation, start + cellsize * index. By this formula, the cell at index 0 begins precisely at the start of the array, the cell at index 1 begins precisely cellsize bytes beyond the start of the array, and so on. As an example, cell 4 of Figure 5.2 begins at memory location 2146 + 2*4 = 2146 + 8 = 2154.\\\n",
    "Of course, the arithmetic for calculating memory addresses within an array can be handled automatically. Therefore, a programmer can envision a more typical high-level abstraction of an array of characters as diagrammed in Figure 5.3: A higher-level abstraction for the string portrayed in Figure 5.2.\\\n",
    "## 5.3 Referential Arrays\n",
    "As another motivating example, assume that we want a medical information system to keep track of the patients currently assigned to beds in a certain hospital. If we assume that the hospital has 200 beds, and conveniently adv. 便利地；合宜地 that those beds are numbered from 0 to 199, we might condiser using an array-based structure to maintain the names of the patients currently assigned to those beds. For example, in python we might use a list of names, such as:\n",
    "```python\n",
    "['a','b','c','d',...]\n",
    "```\n",
    "To represent such a list with an array, Python must adhere to the requirement that each cell of the array use the same number of bytes. Yet the elements are strings, and strings naturally have different lengths. Python could attempt to reserve enough space for each cell to hold the maximum length string (not just of currently stored strings, but of any string we might ever want to store), but that would be wasteful.\\\n",
    "Instead, Python represents a list or tuple instance using an internal storage mechanism of an array of object references. At the lowest level, what is stored is a consecutive sequence of memory addresses at which the elements of the sequence reside vi. 住，居住；属于. A high-level diagram of such a list is shown in Figure 5.4: An array storing references to strings.\\\n",
    "Althoght the relative size of the individual elements may vary, the number of bits used to store the memory address of each element is fixed (e.g., 64-bits per address). In this way, python can support constant-time accesss to a list or tuple element based on its index.\n"
   ]
  },
  {
   "cell_type": "markdown",
   "metadata": {},
   "source": [
    "## 8.1 General Trees\n",
    "Productivity experts say that breakthroughs come by thinking \"nonlinearly.\" In this chapter, we discuss one of the most important nonlinear data structures in computing——trees. Tree structures are indeed a breakthough in data organization, for they allow us to implement a host of algorithms much faster than when using linear data structures, such as array-based lists or linked lists. Trees also provide a natural organization for data, and consequently adv. 不断地；时常地 have become ubiquitous adj. 普遍存在的；无所不在的 structures in file systems, graphical user interfaces, databases, web sites, and other computer systems.\\\n",
    "It is not always clear what productivity experts mean by \"nonlinear\" thinking, but when we say that trees are \"nonlinear\", we are referring to an organizational relationship that is richer than the simple \"before\" and \"after\" relationships between objects in sequences. The relationship in a tree are hierarchical, with some objects being \"above\" and some \"below\" others. Actually, the main terminology for tree data structures comes from family trees, with the term \"parent\", \"child,\"\"ancestor,\" and \"descendant\" being the most common words used to describe relationships. we show an example of a family tree in Figure 8.1:\n",
    "### 8.1.1 Tree Definitions and Properties\n",
    "A tree is an abstract data type that stores elements hierarchically. With the exception of the top elements, each element in a tree has a parent element and zero or more children elements. A tree is usually visualized by placing elements inside ovals(n. 椭圆形物；卵形体（oval的复数）) or rectangles, and by drawing the connections between parents and children with straight lines. We typically call the top element the root of the tree, but it is drawn as the highest element, with the other elements being connected below (just the opposite of a botanical adj. 植物学的 tree).Figure 8.2: A tree with 17 nodes representing the organization of a fictitious adj. 虚构的；假想的；编造的；假装的 corporation. The root stores Electronics R'Us. The children of the root store R&D, Sales, Purchasing, and Manufacturing. The internal nodes store Sales, International, Overseas, Electronics R'Us, and Manufacturing.\\\n",
    "#### Formal Tree Definition\n",
    "Formally, we define a tree T as a set of nodes storing elements such that the nodes have a parent-child relationship that satisfies the following properties:\n",
    "- If T is nonempty, it has a special node, called the root of T, that has no parent.\n",
    "- Each node v of T different from the root has a unique parent node w; every node with parent w is a child of w."
   ]
  },
  {
   "cell_type": "markdown",
   "metadata": {},
   "source": [
    "### A Tree Abstract Base Class in Python\n",
    "In discussing the object-oriented design principle of abstraction in Section 2.1.2, we noted that a public interface for an abstract data type is often managed in Python via duck typing 鸭子类型（动态类型的风格之一）. For example, we defined the notion of the public interface for a queue ADT in section 6.2 and have since presented several classes that implement the queue interface (e.g., ArrayQueue in Section 6.2.2, LinkedQueue in Section 7.1.2, CircularQueue in Section 7.2.2). However, we never gave any formal definition of the queue ADT in Python; all of the concrete implementations were self-contained classes that just happen to adhere to the same public interface. A more formal mechanism to designate the relationships between different implementations of the same abstraction is through the definition of one class that serves as an abstract base class, via inheritance, for one or more concrete classes.\\\n",
    "We choose to define a Tree class, in code fragment 8.1, that serves as an abstract base class corresponding to the tree ADT. Our reason for doing so is that there is quite a bit of useful code that we can provide, even at this level of abstraction, alowing greater code reuse in the concrete tree implementations we later define. The Tree class provides a definition of a nested Position class (which is also abstract), and declarations of many of the accessor methods included in the tree ADT.\\\n",
    "However, our Tree class does not define any internal representation for storing a tree, and five of the methods given in that code fragment remain abstract (root, parent, num-children, children, and len), each of these methods raises a NotImplementedError.(A more formal approach for defining abstract base classes and abstract methods, using python's abc module, is described in section 2.4.3). The subclasses are responsible for overriding abstract methods, such as children, to provide a working implementation for each behavior, based on their chosen internal representation.\\\n",
    "Although the Tree class is an abstract base class, it includes several concrete methods with implementations that rely on calls to the abstract methods of the class. In defining the tree ADT in the previous section, we declare ten accessor methods. Five of those are the ones we left as abstract, in code fragment 8.1. The other five can be implemented based on the former code fragment 8.2 provides concrete implementations for methods is_root, is_leaf, and is_empty. In section 8.4, we will explore general algorithms for traversing v. 穿过；来回移动；反驳；阻挠；详细研究；旋转 a tree that can be used to provide concrete implementations of the positions and iter methods within the tree class. The beauty of this design is that the concrete mehods defined within the Tree abstract base class will be inherited by all subclasses. This promotes greater code reuse, as there will be no need for those subclasses to reimplement such behaviors.\\\n",
    "We note that, with the tree class being abstract, there is no reason to create a direct instance of it, nor would such an instance the useful. The class exists to serve as a base for inheritance and users will create instances of concrete subclasses."
   ]
  },
  {
   "cell_type": "markdown",
   "metadata": {},
   "source": [
    "### 2.4.3 Abstract Base Classes\n",
    "When defining a group of classes as part of an inheritance hierarchy, one technique for avoiding repetition of code is to design a base class with common functionality that can be inherited by other classes that need it. As an example, the hierarchy from section 2.4.2 includes a progression n. 前进；连续 class, which serves as a base class for three distinct subclasses: ArithmeticProgression, GeometricProgression and FibonacciProgression. Although it is possible to create an instance of the Progression base class, there is little value in doing so because its behavior is simply a special case of an ArithmeticProgression with increment 1. The real purpose of the Progression class was to centralize the implementations of behaviors that other progressions needed, thereby streamlining the code that is relegated v. 贬职，把降低到，把……置于次要地位；使（球队）降级 to those subclasses.\\\n",
    "In classic object-oriented terminology, we say a class is an abstract base class if its only purpose is to serve as a base class through inheritance. More formally, an abstract base class is one that cannot be directly instantiated, while a concrete adj. 混凝土的；实在的，具体的；有形的 class is one that can be instantiated. By this definition, our Progression class is technically concrete, although we essentially designed it as an abstract base class.\\\n",
    "In statically typed languages such as java and c++, an abstract base class serves as a formal type that may guarantee one or more abstract methods. This provides support for polymorphism n. 多态性；多形性；同质多晶, as a variable may have an abstract base class as its declared type, even though it refers to an instance of a concrete subclasses. Because there are no declared types in python, this kind of polymorphism can be accomplished without the need for a unifying abstract base class. For this reason, there is not as strong a tradition of defining abstract base classes in python, although python's abs module provides support for defining a formal abstract base class. \\\n",
    "our reason for focusing on abstract base classes in our study of data structures is that python's collections module provides several abstract base classes that assist"
   ]
  },
  {
   "cell_type": "code",
   "execution_count": null,
   "metadata": {},
   "outputs": [],
   "source": []
  }
 ],
 "metadata": {
  "kernelspec": {
   "display_name": "Python 3",
   "language": "python",
   "name": "python3"
  },
  "language_info": {
   "codemirror_mode": {
    "name": "ipython",
    "version": 3
   },
   "file_extension": ".py",
   "mimetype": "text/x-python",
   "name": "python",
   "nbconvert_exporter": "python",
   "pygments_lexer": "ipython3",
   "version": "3.7.4"
  }
 },
 "nbformat": 4,
 "nbformat_minor": 2
}
